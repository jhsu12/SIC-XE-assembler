{
 "cells": [
  {
   "cell_type": "code",
   "execution_count": 1,
   "metadata": {},
   "outputs": [
    {
     "name": "stdout",
     "output_type": "stream",
     "text": [
      "0\n",
      "1\n",
      "3\n",
      "4\n"
     ]
    }
   ],
   "source": [
    "for i in range(5):\n",
    "    if i == 2:\n",
    "        continue\n",
    "    print(i)"
   ]
  },
  {
   "cell_type": "code",
   "execution_count": 4,
   "metadata": {},
   "outputs": [
    {
     "data": {
      "text/plain": [
       "4"
      ]
     },
     "execution_count": 4,
     "metadata": {},
     "output_type": "execute_result"
    }
   ],
   "source": [
    "s = \"X'weew'\"\n",
    "len(s[2:-1])"
   ]
  },
  {
   "cell_type": "code",
   "execution_count": 5,
   "metadata": {},
   "outputs": [
    {
     "name": "stdout",
     "output_type": "stream",
     "text": [
      "weew\n"
     ]
    }
   ],
   "source": [
    "print(s[2:-1])"
   ]
  },
  {
   "cell_type": "code",
   "execution_count": 9,
   "metadata": {},
   "outputs": [
    {
     "name": "stdout",
     "output_type": "stream",
     "text": [
      "Symbol: symbol3, Address: 0x0001\n",
      "Symbol: symbol1, Address: 0x000A\n",
      "Symbol: symbol4, Address: 0x000D\n",
      "Symbol: symbol2, Address: 0x002F\n"
     ]
    }
   ],
   "source": [
    "my_dict = {'symbol1': 0xA, 'symbol2': 0x002F, 'symbol3': 0x001, 'symbol4': 0x000D}\n",
    "\n",
    "# Sort the dictionary by values in ascending order\n",
    "sorted_dict = dict(sorted(my_dict.items(), key=lambda item: item[1]))\n",
    "\n",
    "# Format and print the sorted dictionary\n",
    "for symbol, address in sorted_dict.items():\n",
    "    formatted_address = f'0x{address:04X}'  # Add leading zeros and format as hexadecimal\n",
    "    print(f'Symbol: {symbol}, Address: {formatted_address}')\n"
   ]
  },
  {
   "cell_type": "code",
   "execution_count": 21,
   "metadata": {},
   "outputs": [
    {
     "name": "stdout",
     "output_type": "stream",
     "text": [
      "Symbol: FIRST, Address: 0000\n",
      "Symbol: CLOOP, Address: 0006\n",
      "Symbol: ENDFIL, Address: 001A\n",
      "Symbol: EOF, Address: 002D\n",
      "Symbol: RETADR, Address: 0030\n",
      "Symbol: LENGTH, Address: 0033\n",
      "Symbol: BUFFER, Address: 0036\n",
      "Symbol: RDREC, Address: 1036\n",
      "Symbol: RLOOP, Address: 1040\n",
      "Symbol: EXIT, Address: 1056\n",
      "Symbol: INPUT, Address: 105C\n",
      "Symbol: WRREC, Address: 105D\n",
      "Symbol: WLOOP, Address: 1062\n",
      "Symbol: OUTPUT, Address: 1076\n"
     ]
    }
   ],
   "source": [
    "\n",
    "\n",
    "fname=\"2-5.txt\"\n",
    "# means have not start yet\n",
    "location_counter = -1\n",
    "\n",
    "instruct_list = []\n",
    "symbol_table = {} # 'sym': addr\n",
    "register_number = {'A': 0, 'X': 1, 'L': 2, 'B': 3, 'S': 4, 'T': 5, 'F': 6}\n",
    "\n",
    "mnemonic_info = {\n",
    "    \"STL\": {\"format\":3, \"opcode\":0x80 },\n",
    "    \"STA\": {\"format\":3, \"opcode\":0x0C },\n",
    "    \"LDB\": {\"format\":3, \"opcode\":0x68 },\n",
    "    \"LDT\": {\"format\":3, \"opcode\":0x74 },\n",
    "    \"JSUB\": {\"format\":3, \"opcode\":0x48 },\n",
    "    \"LDA\": {\"format\":3, \"opcode\":0x00 },\n",
    "    \"COMP\": {\"format\":3, \"opcode\":0x28 },\n",
    "    \"JEQ\": {\"format\":3, \"opcode\":0x30 },\n",
    "    \"J\": {\"format\":3, \"opcode\":0x3C },\n",
    "    \"CLEAR\": {\"format\":2, \"opcode\":0xB4 },\n",
    "    \"TD\": {\"format\":3, \"opcode\":0xE0 },\n",
    "    \"RD\": {\"format\":3, \"opcode\":0xD8 },\n",
    "    \"COMPR\": {\"format\":2, \"opcode\":0xA0 },\n",
    "    \"STCH\": {\"format\":3, \"opcode\":0x54 },\n",
    "    \"TIXR\": {\"format\":2, \"opcode\":0xB8 },\n",
    "    \"JLT\": {\"format\":3, \"opcode\":0x38 },\n",
    "    \"STX\": {\"format\":3, \"opcode\":0x10 },\n",
    "    \"RSUB\": {\"format\":3, \"opcode\":0x4c },\n",
    "    \"LDCH\": {\"format\":3, \"opcode\":0x50 },\n",
    "    \"WD\": {\"format\":3, \"opcode\":0xDC },\n",
    "\n",
    "} # \"LDA\" : {\"format\":, \"opcode\"} if the format is 3/4, then it will store 3 as default since if it is format 4, it will have a + sign.\n",
    "def construct_instruct(instruct):\n",
    "    # nstruct_info = {\"loc\":, \"sym\":, \"mne\":, \"oper\":}\n",
    "    # remember \"END\" is index 0\n",
    "    if len(instruct) == 3:\n",
    "        instruct_info = {\n",
    "            'loc':-1,\n",
    "            'sym': instruct[0],\n",
    "            'mne': instruct[1],\n",
    "            'oper': instruct[2],\n",
    "        }\n",
    "    elif len(instruct) == 2:\n",
    "        instruct_info = {\n",
    "            'loc':-1,\n",
    "            'mne': instruct[0],\n",
    "            'oper': instruct[1],\n",
    "        }\n",
    "    elif len(instruct) == 1:\n",
    "        instruct_info = {\n",
    "            'loc':-1,\n",
    "            'mne': instruct[0],\n",
    "        }\n",
    "    instruct_list.append(instruct_info)\n",
    "    return\n",
    "\n",
    "\n",
    "def make_symbol_table():\n",
    "    # decide the program name and also length\n",
    "    p_name = \"\"\n",
    "    p_length = -1\n",
    "    start_location = -1\n",
    "    global location_counter, symbol_table, mnemonic_info\n",
    "\n",
    "    for instruct in instruct_list:\n",
    "\n",
    "        # Update instruction info\n",
    "        #print(hex(location_counter))\n",
    "        instruct['loc'] = hex(location_counter)\n",
    "\n",
    "        # Assemble directives\n",
    "        if instruct['mne'] == \"START\":\n",
    "            p_name = instruct['sym']\n",
    "            location_counter = int(instruct['oper'])\n",
    "            start_location = location_counter\n",
    "            instruct['loc'] = hex(location_counter)\n",
    "        elif instruct['mne'] == \"BASE\":\n",
    "            continue\n",
    "        elif instruct['mne'] == \"BYTE\":\n",
    "            symbol_table[instruct['sym']] = hex(location_counter)\n",
    "\n",
    "            operand = instruct['oper']\n",
    "            if operand[0] == 'X':\n",
    "                location_counter += int(len(operand[2:-1])/2)\n",
    "            elif operand[0] == 'C':\n",
    "                location_counter += len(operand[2:-1])\n",
    "\n",
    "        elif instruct['mne'] == \"RESW\":\n",
    "            symbol_table[instruct['sym']] = hex(location_counter)\n",
    "            location_counter += int(instruct['oper']) * 3\n",
    "        elif instruct['mne'] == \"RESB\":\n",
    "            symbol_table[instruct['sym']] = hex(location_counter)\n",
    "            location_counter += int(instruct['oper'])\n",
    "        elif instruct['mne'] == \"END\":\n",
    "            # Calculate length\n",
    "            p_length = hex(location_counter-start_location)\n",
    "        else:\n",
    "        # Opcode\n",
    "            # check synbol\n",
    "            if 'sym' in instruct:\n",
    "                symbol_table[instruct['sym']] = hex(location_counter)\n",
    "                \n",
    "            # Check whether it needs to add in to symbol table\n",
    "            if 'oper' in instruct:\n",
    "                # Construct symbol table\n",
    "\n",
    "                # filter operand with # and @\n",
    "                operand = instruct['oper'].replace('#', \"\").replace('@', \"\")\n",
    "\n",
    "                # A,S or BUFFER,X ....\n",
    "                if ',' in operand:\n",
    "                    operand = operand.split(',')\n",
    "                    if (operand[0] not in register_number) and (operand[0] not in symbol_table):\n",
    "                        symbol_table[operand[0]] = -1\n",
    "                # consist only alphabet and not register\n",
    "                elif operand.isalpha() and operand not in register_number:\n",
    "                    if operand not in symbol_table:\n",
    "                        symbol_table[operand] = -1\n",
    "\n",
    "            # Update location counter\n",
    "            # format 4\n",
    "            if '+' in instruct['mne']:\n",
    "                location_counter += 4\n",
    "            else:\n",
    "                location_counter += mnemonic_info[instruct['mne']]['format']\n",
    "    program_info = {\"program_name\": p_name, \"program_length\": p_length}\n",
    "    return program_info\n",
    "\n",
    "\n",
    "def print_symbol_table():\n",
    "    global symbol_table\n",
    "    sorted_symbol_table = dict(sorted(symbol_table.items(), key=lambda item: int(item[1], 16)))\n",
    "\n",
    "    for symbol, address in sorted_symbol_table.items():\n",
    "        \n",
    "        print(f'Symbol: {symbol}, Address: {int(address, 16):04X}')\n",
    "      \n",
    "           \n",
    "with open(fname, 'r') as file:\n",
    "    for l in file:\n",
    "        if(len(l) == 0 or '.' in l):\n",
    "            continue\n",
    "        instruct = l.replace('\\n', '').replace('\\t', ' ').split()\n",
    "        # construct instruction\n",
    "        construct_instruct(instruct)\n",
    "\n",
    "## construct symbol table and fill in the info of instruct_list\n",
    "program_info = make_symbol_table()\n",
    "\n",
    "'''\n",
    "for i in instruct_list:\n",
    "    print(i)\n",
    "'''\n",
    "# Not \n",
    "print_symbol_table()\n",
    "\n"
   ]
  },
  {
   "cell_type": "code",
   "execution_count": null,
   "metadata": {},
   "outputs": [],
   "source": []
  }
 ],
 "metadata": {
  "kernelspec": {
   "display_name": "base",
   "language": "python",
   "name": "python3"
  },
  "language_info": {
   "codemirror_mode": {
    "name": "ipython",
    "version": 3
   },
   "file_extension": ".py",
   "mimetype": "text/x-python",
   "name": "python",
   "nbconvert_exporter": "python",
   "pygments_lexer": "ipython3",
   "version": "3.9.12"
  },
  "orig_nbformat": 4
 },
 "nbformat": 4,
 "nbformat_minor": 2
}
